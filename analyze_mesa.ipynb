{
 "cells": [
  {
   "cell_type": "markdown",
   "metadata": {},
   "source": [
    "### Read MESA stellar structure data"
   ]
  },
  {
   "cell_type": "markdown",
   "metadata": {},
   "source": [
    "Imports"
   ]
  },
  {
   "cell_type": "code",
   "execution_count": 1,
   "metadata": {},
   "outputs": [],
   "source": [
    "# Imports\n",
    "import numpy as np\n",
    "import matplotlib.pyplot as plt\n",
    "from astropy.io import ascii\n",
    "\n",
    "%matplotlib inline"
   ]
  },
  {
   "cell_type": "code",
   "execution_count": 2,
   "metadata": {},
   "outputs": [],
   "source": [
    "# Variables\n",
    "filename1 = \"history.data\"\n",
    "filename2 = \"history2.data\"\n",
    "binary_filename = \"binary_history.data\"\n",
    "datastart = 7"
   ]
  },
  {
   "cell_type": "code",
   "execution_count": 3,
   "metadata": {},
   "outputs": [],
   "source": [
    "# Function that reads in data from filename and returns column1, column2, and column3 data\n",
    "def read_data(filename, datastart, column):\n",
    "    # Read in data\n",
    "    data = ascii.read(filename, data_start = datastart)\n",
    "    \n",
    "    # Get temperature and radius data\n",
    "    column_data = data['col' + column]\n",
    "    \n",
    "    return column_data"
   ]
  },
  {
   "cell_type": "markdown",
   "metadata": {},
   "source": [
    "Read data"
   ]
  },
  {
   "cell_type": "code",
   "execution_count": null,
   "metadata": {},
   "outputs": [],
   "source": [
    "# Call function to get data\n",
    "log_R_1 = read_data(filename1, datastart, '36')\n",
    "age_1 = read_data(filename1, datastart, '2')\n",
    "log_lum_1 = read_data(filename1, datastart, '35')\n",
    "mass_1 = read_data(filename1, datastart, '3')"
   ]
  },
  {
   "cell_type": "code",
   "execution_count": null,
   "metadata": {},
   "outputs": [],
   "source": [
    "# Call function to get data\n",
    "log_R_2 = read_data(filename2, datastart, '36')\n",
    "age_2 = read_data(filename2, datastart, '2')\n",
    "log_lum_2 = read_data(filename2, datastart, '35')\n",
    "mass_2 = read_data(filename2, datastart, '3')"
   ]
  },
  {
   "cell_type": "code",
   "execution_count": null,
   "metadata": {},
   "outputs": [],
   "source": [
    "# Call function to get data\n",
    "bin_mass1 = read_data(binary_filename, datastart, '11')\n",
    "bin_mass2 = read_data(binary_filename, datastart, '12')\n",
    "bin_sep = read_data(binary_filename, datastart, '4')\n",
    "bin_age = read_data(binary_filename, datastart, '2')"
   ]
  },
  {
   "cell_type": "markdown",
   "metadata": {},
   "source": [
    "Analyze data"
   ]
  },
  {
   "cell_type": "code",
   "execution_count": null,
   "metadata": {},
   "outputs": [],
   "source": [
    "fig, axes = plt.subplots(3, sharex = True, figsize = (7, 11))\n",
    "fig.suptitle('Mira A', fontsize=15)\n",
    "\n",
    "axes[0].plot(age_1, mass_1)\n",
    "axes[0].set_ylabel(\"Mass (M_sun)\", fontsize=12)\n",
    "\n",
    "axes[1].plot(age_1, 10**log_lum_1)\n",
    "axes[1].set_ylabel(\"Luminosity (L_sun)\", fontsize=12)\n",
    "\n",
    "axes[2].plot(age_1, 10**log_R_1)\n",
    "axes[2].set_ylabel(\"Radius (R_sun)\", fontsize=12)\n",
    "axes[2].set_xlabel(\"Stellar Age (years)\", fontsize=12)\n",
    "\n",
    "plt.savefig(\"mira_a.pdf\")\n",
    "plt.savefig(\"mira_a.png\")"
   ]
  },
  {
   "cell_type": "code",
   "execution_count": null,
   "metadata": {},
   "outputs": [],
   "source": [
    "fig, axes = plt.subplots(3, sharex = True, figsize = (7, 11))\n",
    "fig.suptitle('Mira B', fontsize=15)\n",
    "\n",
    "axes[0].plot(age_2, mass_2)\n",
    "axes[0].set_ylabel(\"Mass (M_sun)\", fontsize=12)\n",
    "\n",
    "axes[1].plot(age_2, 10**log_lum_2)\n",
    "axes[1].set_ylabel(\"Luminosity (L_sun)\", fontsize=12)\n",
    "\n",
    "axes[2].plot(age_2, 10**log_R_2)\n",
    "axes[2].set_ylabel(\"Radius (R_sun)\", fontsize=12)\n",
    "axes[2].set_xlabel(\"Stellar Age (years)\", fontsize=12)\n",
    "\n",
    "plt.savefig(\"mira_b.pdf\")\n",
    "plt.savefig(\"mira_b.png\")"
   ]
  },
  {
   "cell_type": "code",
   "execution_count": null,
   "metadata": {},
   "outputs": [],
   "source": [
    "plt.plot(bin_age, bin_sep)\n",
    "plt.xlabel(\"Age of Binary System (years)\", fontsize=12)\n",
    "plt.ylabel(\"Binary Separation (R_sun)\", fontsize=12)\n",
    "\n",
    "plt.savefig(\"sep_vs_age.pdf\")\n",
    "plt.savefig(\"sep_vs_age.png\")"
   ]
  },
  {
   "cell_type": "code",
   "execution_count": null,
   "metadata": {},
   "outputs": [],
   "source": [
    "total_m = bin_mass1 + bin_mass2\n",
    "\n",
    "plt.plot(bin_age, total_m)\n",
    "plt.xlabel(\"Age of Binary System (years)\", fontsize=12)\n",
    "plt.ylabel(\"Total Mass of Binary System (M_sun)\", fontsize=12)\n",
    "\n",
    "plt.savefig(\"mass_vs_age.pdf\")\n",
    "plt.savefig(\"mass_vs_age.png\")"
   ]
  },
  {
   "cell_type": "code",
   "execution_count": null,
   "metadata": {},
   "outputs": [],
   "source": []
  }
 ],
 "metadata": {
  "kernelspec": {
   "display_name": "Python 3",
   "language": "python",
   "name": "python3"
  },
  "language_info": {
   "codemirror_mode": {
    "name": "ipython",
    "version": 3
   },
   "file_extension": ".py",
   "mimetype": "text/x-python",
   "name": "python",
   "nbconvert_exporter": "python",
   "pygments_lexer": "ipython3",
   "version": "3.6.9"
  }
 },
 "nbformat": 4,
 "nbformat_minor": 2
}
