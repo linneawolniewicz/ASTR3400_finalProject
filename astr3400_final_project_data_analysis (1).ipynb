{
 "cells": [
  {
   "cell_type": "code",
   "execution_count": null,
   "metadata": {},
   "outputs": [],
   "source": [
    "%matplotlib inline\n",
    "from astropy.io import fits\n",
    "import numpy as np\n",
    "import copy\n",
    "import matplotlib.pyplot as plt\n",
    "import constants as pc"
   ]
  },
  {
   "cell_type": "markdown",
   "metadata": {},
   "source": [
    "### Binary Evolution Data Analysis\n",
    "\n",
    "- Use data from Dr. Dexter to construct plots, compare to models of white dwarf/red giant"
   ]
  },
  {
   "cell_type": "markdown",
   "metadata": {},
   "source": [
    "Here's an example of how we can potentially use mesa_reader to analyze our data:"
   ]
  },
  {
   "cell_type": "code",
   "execution_count": null,
   "metadata": {},
   "outputs": [],
   "source": [
    "# import mesa_reader to make its classes accessible\n",
    "import mesa_reader as mr\n",
    "\n",
    "# make a MesaData object from a history file\n",
    "h = mr.MesaData('LOGS/history.data')\n",
    "\n",
    "# extract the star_age column of data\n",
    "ages = h.data('star_age')\n",
    "\n",
    "# or do it more succinctly\n",
    "ages = h.star_age"
   ]
  },
  {
   "cell_type": "markdown",
   "metadata": {},
   "source": [
    "'ages' is now a numpy array that has the same values as are in our LOGS/history.data file under the star_age header"
   ]
  },
  {
   "cell_type": "code",
   "execution_count": null,
   "metadata": {},
   "outputs": [],
   "source": [
    "import mesa_reader as mr\n",
    "\n",
    "# load the profile file into a MesaData instance\n",
    "p = mr.MesaData('LOGS/profile1.data')\n",
    "\n",
    "# access the temperature column of data\n",
    "temperatures = 10 ** p.logT"
   ]
  },
  {
   "cell_type": "code",
   "execution_count": null,
   "metadata": {},
   "outputs": [],
   "source": [
    "#Plot of luminosity vs. effective temperature; HR diagram!\n",
    "\n",
    "# start pylab mode\n",
    "%pylab\n",
    "# import mesa_reader\n",
    "import mesa_reader as mr\n",
    "\n",
    "# load and plot data\n",
    "h = mr.MesaData('LOGS/history.data')\n",
    "plot(h.log_Teff, h.log_L)\n",
    "\n",
    "# set axis labels\n",
    "xlabel('log Effective Temperature')\n",
    "ylabel('log Luminosity')\n",
    "\n",
    "# invert the x-axis\n",
    "plt.gca().invert_xaxis()"
   ]
  },
  {
   "cell_type": "code",
   "execution_count": null,
   "metadata": {},
   "outputs": [],
   "source": [
    "#Plot a temperature-density profile\n",
    "\n",
    "%pylab\n",
    "import mesa_reader as mr\n",
    "\n",
    "# load entire LOG directory information\n",
    "l = MesaLogDir('./LOGS')\n",
    "# grab the last profile\n",
    "p = l.profile_data()\n",
    "\n",
    "# this works even if you only have logRho and logT!\n",
    "loglog(p.Rho, p.T)\n",
    "xlabel(\"Density\")\n",
    "ylabel(\"Temperature\")"
   ]
  },
  {
   "cell_type": "markdown",
   "metadata": {},
   "source": [
    "### Develop a model to compare to the data (maybe HR diagram is enough?)\n"
   ]
  },
  {
   "cell_type": "code",
   "execution_count": null,
   "metadata": {},
   "outputs": [],
   "source": []
  }
 ],
 "metadata": {
  "kernelspec": {
   "display_name": "Python 3",
   "language": "python",
   "name": "python3"
  },
  "language_info": {
   "codemirror_mode": {
    "name": "ipython",
    "version": 3
   },
   "file_extension": ".py",
   "mimetype": "text/x-python",
   "name": "python",
   "nbconvert_exporter": "python",
   "pygments_lexer": "ipython3",
   "version": "3.6.9"
  }
 },
 "nbformat": 4,
 "nbformat_minor": 2
}
